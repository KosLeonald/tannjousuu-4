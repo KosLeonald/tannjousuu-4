{
 "cells": [
  {
   "cell_type": "code",
   "execution_count": 1,
   "metadata": {},
   "outputs": [
    {
     "name": "stdout",
     "output_type": "stream",
     "text": [
      "Requirement already satisfied: line-bot-sdk in c:\\users\\yasuy\\anaconda3\\lib\\site-packages (1.19.0)\n",
      "Requirement already satisfied: requests>=2.0 in c:\\users\\yasuy\\anaconda3\\lib\\site-packages (from line-bot-sdk) (2.24.0)\n",
      "Requirement already satisfied: future in c:\\users\\yasuy\\anaconda3\\lib\\site-packages (from line-bot-sdk) (0.18.2)\n",
      "Requirement already satisfied: idna<3,>=2.5 in c:\\users\\yasuy\\anaconda3\\lib\\site-packages (from requests>=2.0->line-bot-sdk) (2.10)\n",
      "Requirement already satisfied: certifi>=2017.4.17 in c:\\users\\yasuy\\anaconda3\\lib\\site-packages (from requests>=2.0->line-bot-sdk) (2020.6.20)\n",
      "Requirement already satisfied: chardet<4,>=3.0.2 in c:\\users\\yasuy\\anaconda3\\lib\\site-packages (from requests>=2.0->line-bot-sdk) (3.0.4)\n",
      "Requirement already satisfied: urllib3!=1.25.0,!=1.25.1,<1.26,>=1.21.1 in c:\\users\\yasuy\\anaconda3\\lib\\site-packages (from requests>=2.0->line-bot-sdk) (1.25.11)\n"
     ]
    }
   ],
   "source": [
    "!pip install line-bot-sdk"
   ]
  },
  {
   "cell_type": "code",
   "execution_count": 10,
   "metadata": {},
   "outputs": [],
   "source": [
    "import json "
   ]
  },
  {
   "cell_type": "code",
   "execution_count": 12,
   "metadata": {},
   "outputs": [],
   "source": [
    "file = open('info.json' , 'r')\n",
    "info = json.load(file)"
   ]
  },
  {
   "cell_type": "code",
   "execution_count": 13,
   "metadata": {},
   "outputs": [
    {
     "data": {
      "text/plain": [
       "'cnQBPisn2f9tf41z23huFHx/yX0NVAnmH386KPWsMUMWjVS/I4mItCxXlROTllhMYd3+N0dGhYS3MDkOBwk/T4ZiIPXcjVuUfnDTf5BD6KavEx5uSykVGfPdbf3+MrVaOVAeUMFKApnzYP3dBv5L5QdB04t89/1O/w1cDnyilFU='"
      ]
     },
     "execution_count": 13,
     "metadata": {},
     "output_type": "execute_result"
    }
   ],
   "source": [
    "#info['CHANNEL_ACCESS_TOKEN']"
   ]
  },
  {
   "cell_type": "code",
   "execution_count": 14,
   "metadata": {},
   "outputs": [],
   "source": [
    "from linebot import LineBotApi\n",
    "from linebot.models import TextSendMessage"
   ]
  },
  {
   "cell_type": "code",
   "execution_count": 16,
   "metadata": {},
   "outputs": [],
   "source": [
    "CHANNEL_ACCESS_TOKEN = info['CHANNEL_ACCESS_TOKEN']\n",
    "line_bot_api = LineBotApi(CHANNEL_ACCESS_TOKEN)"
   ]
  },
  {
   "cell_type": "code",
   "execution_count": 18,
   "metadata": {},
   "outputs": [],
   "source": [
    "def main():\n",
    "    USER_ID = info['USER_ID']\n",
    "    messages= TextSendMessage(text=\"あと少しだよ、がんばって～\")\n",
    "    line_bot_api.push_message(USER_ID,messages=messages)\n",
    "    \n",
    "if __name__ == \"__main__\" :\n",
    "    main()"
   ]
  },
  {
   "cell_type": "code",
   "execution_count": 6,
   "metadata": {},
   "outputs": [
    {
     "name": "stdout",
     "output_type": "stream",
     "text": [
      "大吉\n"
     ]
    }
   ],
   "source": [
    "import random\n",
    "\n",
    "mylist = [\"大吉\",\"中吉\",\"小吉\",\"凶\",\"大凶\"]\n",
    "print(random.choice(mylist))"
   ]
  },
  {
   "cell_type": "code",
   "execution_count": 70,
   "metadata": {},
   "outputs": [
    {
     "name": "stdout",
     "output_type": "stream",
     "text": [
      "02\n",
      "今は朝です\n"
     ]
    }
   ],
   "source": [
    "import time, datetime \n",
    "\n",
    "today = datetime.datetime.fromtimestamp(time.time())\n",
    "time = today.strftime('%H')\n",
    "\n",
    "print(time)\n",
    "if  int(time) > 20 :\n",
    "   print('今は夜です')\n",
    "else  : \n",
    "   print('今は朝です')"
   ]
  },
  {
   "cell_type": "code",
   "execution_count": 2,
   "metadata": {},
   "outputs": [
    {
     "ename": "SyntaxError",
     "evalue": "unexpected EOF while parsing (<ipython-input-2-f530314a09a4>, line 8)",
     "output_type": "error",
     "traceback": [
      "\u001b[1;36m  File \u001b[1;32m\"<ipython-input-2-f530314a09a4>\"\u001b[1;36m, line \u001b[1;32m8\u001b[0m\n\u001b[1;33m    #except LineBotApiError as e:\u001b[0m\n\u001b[1;37m                                 ^\u001b[0m\n\u001b[1;31mSyntaxError\u001b[0m\u001b[1;31m:\u001b[0m unexpected EOF while parsing\n"
     ]
    }
   ],
   "source": [
    "from linebot import LineBotApi\n",
    "from linebot.exceptions import LineBotApiError\n",
    "\n",
    "line_bot_api = LineBotApi('<channel access token>')\n",
    "\n",
    "try:\n",
    "    profile = line_bot_api.get_profile('<user_id>')\n",
    "#except LineBotApiError as e:"
   ]
  },
  {
   "cell_type": "code",
   "execution_count": null,
   "metadata": {},
   "outputs": [],
   "source": []
  }
 ],
 "metadata": {
  "kernelspec": {
   "display_name": "Python 3",
   "language": "python",
   "name": "python3"
  },
  "language_info": {
   "codemirror_mode": {
    "name": "ipython",
    "version": 3
   },
   "file_extension": ".py",
   "mimetype": "text/x-python",
   "name": "python",
   "nbconvert_exporter": "python",
   "pygments_lexer": "ipython3",
   "version": "3.8.5"
  }
 },
 "nbformat": 4,
 "nbformat_minor": 4
}
